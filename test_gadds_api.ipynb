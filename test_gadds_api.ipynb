{
 "cells": [
  {
   "cell_type": "code",
   "execution_count": 8,
   "metadata": {},
   "outputs": [],
   "source": [
    "import itertools\n",
    "from collections import OrderedDict\n",
    "import requests\n",
    "import uuid\n",
    "from datetime import datetime\n",
    "\n",
    "def post(params):\n",
    "    return requests.post('http://ec2-13-211-167-117.ap-southeast-2.compute.amazonaws.com:8000/gaddsDownload/',\n",
    "                         json=params)\n",
    "\n",
    "def combinations(choices):\n",
    "    return [dict(zip(choices.keys(), choice_values))\n",
    "            for choice_values in itertools.product(*choices.values())]\n",
    "\n",
    "def template():\n",
    "    return {\n",
    "        'requestId': str(uuid.uuid4()),\n",
    "        'emailAddress': 'umma.zannat@ga.gov.au',\n",
    "        'extent': {\n",
    "            'type': 'Feature',\n",
    "            'geometry': {\n",
    "                'type': 'Polygon',\n",
    "                'coordinates': [[[148.422, -25.577],\n",
    "                                 [148.422, -10.091],\n",
    "                                 [123.992, -10.091],\n",
    "                                 [123.992, -25.577]]],\n",
    "            'crs': 'EPSG:4283'\n",
    "            }\n",
    "        },\n",
    "\n",
    "        'datasets': [\n",
    "            {\n",
    "                'datasetId': 'http://dapds00.nci.org.au/thredds/fileServer/rr2/ground_gravity/NT/P201701/points/P201701_GNDGRAV/P201701_GNDGRAV.nc',\n",
    "                'variables': None,\n",
    "                'stride': 1\n",
    "            }\n",
    "        ],\n",
    "\n",
    "        'formats': {'point': 'netCDF', 'line': 'netCDF', 'grid': 'netCDF'},\n",
    "        'crs': 'EPSG:4283',\n",
    "        'gridResolution': None,\n",
    "        'gridResampling': 'cubic',\n",
    "        'submitDateTime': datetime.now().strftime(\"%Y-%m-%dT%H:%M:%S.%f\"),\n",
    "        'startDateTime': None,\n",
    "        'endDateTime': None,\n",
    "        'status': 'Pending',\n",
    "        'zipFileLocation': None\n",
    "    }"
   ]
  },
  {
   "cell_type": "code",
   "execution_count": 9,
   "metadata": {},
   "outputs": [],
   "source": [
    "choices = OrderedDict([\n",
    "    ('crs', ['EPSG:4283', 'EPSG:3577', 'EPSG:28353']),\n",
    "    ('form', ['point', 'line', 'grid']),\n",
    "    ('extent_geometry', ['rectangle', 'triangle', 'circle', 'concave_shape', 'MultiPolygon']),\n",
    "    ('intersection', ['contained', 'intersecting', 'disjoint', 'exact_match']),\n",
    "    ('resampling', [None, 'cubic', 'near', 'bilinear', 'cubicspline', 'lanczos', 'average', 'mode', 'min', 'max', 'med', 'Q1', 'Q3']),\n",
    "    ('resolution', [None, 0.05, 1, 100, -5]), # These need to be CRS-appropriate, i.e. in degrees or metres\n",
    "    ('format', ['netCDF', 'ASEG-GDF2', 'ERS', 'Gtiff']),\n",
    "])"
   ]
  },
  {
   "cell_type": "code",
   "execution_count": 17,
   "metadata": {},
   "outputs": [],
   "source": [
    "small = {\n",
    "    'format': ['netCDF'], #[, 'ASEG-GDF2', 'ERS', 'Gtiff'],\n",
    "    'resampling': [None, 'cubic', 'near', 'max'], #[, 'cubic', 'near', 'bilinear', 'cubicspline', 'lanczos', 'average', 'mode', 'min', 'max', 'med', 'Q1', 'Q3']\n",
    "}\n",
    "\n",
    "def set_params(settings):\n",
    "    result = template()\n",
    "    result['formats'] = {'point': settings['format'], 'line': settings['format'], 'grid': settings['format']}\n",
    "    result['gridResampling'] = settings['resampling']\n",
    "    return result"
   ]
  },
  {
   "cell_type": "code",
   "execution_count": 18,
   "metadata": {},
   "outputs": [
    {
     "name": "stdout",
     "output_type": "stream",
     "text": [
      "400 {'requestId': '77b752a0-5542-417f-ac73-ea649159e689', 'emailAddress': 'umma.zannat@ga.gov.au', 'extent': {'type': 'Feature', 'geometry': {'type': 'Polygon', 'coordinates': [[[148.422, -25.577], [148.422, -10.091], [123.992, -10.091], [123.992, -25.577]]], 'crs': 'EPSG:4283'}}, 'datasets': [{'datasetId': 'http://dapds00.nci.org.au/thredds/fileServer/rr2/ground_gravity/NT/P201701/points/P201701_GNDGRAV/P201701_GNDGRAV.nc', 'variables': None, 'stride': 1}], 'formats': {'point': 'netCDF', 'line': 'netCDF', 'grid': 'netCDF'}, 'crs': 'EPSG:4283', 'gridResolution': None, 'gridResampling': 'max', 'submitDateTime': '2020-04-23T18:58:56.511242', 'startDateTime': None, 'endDateTime': None, 'status': 'Pending', 'zipFileLocation': None}\n",
      "\n"
     ]
    }
   ],
   "source": [
    "for choice in combinations(small):\n",
    "    params = set_params(choice)\n",
    "    response = post(params)\n",
    "    if response.status_code not in [200, 201]:\n",
    "        print(response.status_code, params)\n",
    "        print()"
   ]
  },
  {
   "cell_type": "code",
   "execution_count": null,
   "metadata": {},
   "outputs": [],
   "source": []
  }
 ],
 "metadata": {
  "kernelspec": {
   "display_name": "Python 3",
   "language": "python",
   "name": "python3"
  },
  "language_info": {
   "codemirror_mode": {
    "name": "ipython",
    "version": 3
   },
   "file_extension": ".py",
   "mimetype": "text/x-python",
   "name": "python",
   "nbconvert_exporter": "python",
   "pygments_lexer": "ipython3",
   "version": "3.7.3"
  }
 },
 "nbformat": 4,
 "nbformat_minor": 2
}
